{
  "nbformat": 4,
  "nbformat_minor": 0,
  "metadata": {
    "colab": {
      "provenance": [],
      "authorship_tag": "ABX9TyPHUu/ZOq7zf98klsMfQkak",
      "include_colab_link": true
    },
    "kernelspec": {
      "name": "python3",
      "display_name": "Python 3"
    },
    "language_info": {
      "name": "python"
    }
  },
  "cells": [
    {
      "cell_type": "markdown",
      "metadata": {
        "id": "view-in-github",
        "colab_type": "text"
      },
      "source": [
        "<a href=\"https://colab.research.google.com/github/AbdulAhad696/pytorch_YTCourse/blob/main/00_pytorch.ipynb\" target=\"_parent\"><img src=\"https://colab.research.google.com/assets/colab-badge.svg\" alt=\"Open In Colab\"/></a>"
      ]
    },
    {
      "cell_type": "code",
      "execution_count": null,
      "metadata": {
        "colab": {
          "base_uri": "https://localhost:8080/"
        },
        "id": "IYFrhD69R5xO",
        "outputId": "e3785c64-2412-47bb-cdac-64a5b7c8446f"
      },
      "outputs": [
        {
          "output_type": "stream",
          "name": "stdout",
          "text": [
            "Hello\n",
            "2.0.1+cu118\n"
          ]
        }
      ],
      "source": [
        "print(\"Hello\")\n",
        "import torch\n",
        "import pandas\n",
        "import numpy as np\n",
        "import matplotlib.pyplot as plt\n",
        "print(torch.__version__)"
      ]
    },
    {
      "cell_type": "code",
      "source": [
        "X = torch.rand(12288,208)\n",
        "X.shape"
      ],
      "metadata": {
        "id": "iCSlzz_ASSEK",
        "colab": {
          "base_uri": "https://localhost:8080/"
        },
        "outputId": "6f24149f-362c-4ca7-dc0e-a0d93400b8d3"
      },
      "execution_count": null,
      "outputs": [
        {
          "output_type": "execute_result",
          "data": {
            "text/plain": [
              "torch.Size([12288, 208])"
            ]
          },
          "metadata": {},
          "execution_count": 58
        }
      ]
    },
    {
      "cell_type": "code",
      "source": [
        "W = torch.rand(12288,4) * torch.math.sqrt(2/3)\n",
        "W.shape"
      ],
      "metadata": {
        "colab": {
          "base_uri": "https://localhost:8080/"
        },
        "id": "g6OWDvBOz32I",
        "outputId": "9245a3ac-2b2d-4b93-bd04-259bdfbe02e8"
      },
      "execution_count": null,
      "outputs": [
        {
          "output_type": "execute_result",
          "data": {
            "text/plain": [
              "torch.Size([12288, 4])"
            ]
          },
          "metadata": {},
          "execution_count": 59
        }
      ]
    },
    {
      "cell_type": "code",
      "source": [
        "b = torch.zeros(4,1)\n",
        "b"
      ],
      "metadata": {
        "colab": {
          "base_uri": "https://localhost:8080/"
        },
        "id": "M1Ft6-uLz4zp",
        "outputId": "e202f055-b6c5-4dc0-b432-c73bbd38be8a"
      },
      "execution_count": null,
      "outputs": [
        {
          "output_type": "execute_result",
          "data": {
            "text/plain": [
              "tensor([[0.],\n",
              "        [0.],\n",
              "        [0.],\n",
              "        [0.]])"
            ]
          },
          "metadata": {},
          "execution_count": 60
        }
      ]
    },
    {
      "cell_type": "code",
      "source": [
        "Z = torch.rand_like(W)\n",
        "Z.shape"
      ],
      "metadata": {
        "colab": {
          "base_uri": "https://localhost:8080/"
        },
        "id": "WT-VQ9Rh0vFS",
        "outputId": "f4d168b8-151b-42d8-b1bd-650a94099aea"
      },
      "execution_count": null,
      "outputs": [
        {
          "output_type": "execute_result",
          "data": {
            "text/plain": [
              "torch.Size([12288, 4])"
            ]
          },
          "metadata": {},
          "execution_count": 61
        }
      ]
    },
    {
      "cell_type": "code",
      "source": [
        "test = torch.rand(10)\n",
        "test.shape\n",
        "test2 = torch.rand(10)\n",
        "test.shape\n",
        "Z = torch.dot(test,test2)\n",
        "Z"
      ],
      "metadata": {
        "colab": {
          "base_uri": "https://localhost:8080/"
        },
        "id": "zc5DV0gr1X5r",
        "outputId": "73fd854b-e23a-4fe2-eb2e-d21f6d5d1dfa"
      },
      "execution_count": null,
      "outputs": [
        {
          "output_type": "execute_result",
          "data": {
            "text/plain": [
              "tensor(2.5382)"
            ]
          },
          "metadata": {},
          "execution_count": 62
        }
      ]
    },
    {
      "cell_type": "code",
      "source": [
        "dTensor = torch.rand(208,64,64,3)\n",
        "dTensor.shape"
      ],
      "metadata": {
        "colab": {
          "base_uri": "https://localhost:8080/"
        },
        "id": "b818EZVo1skA",
        "outputId": "5a0f7f0c-30cc-400e-9e03-e5aa8480b6b9"
      },
      "execution_count": null,
      "outputs": [
        {
          "output_type": "execute_result",
          "data": {
            "text/plain": [
              "torch.Size([208, 64, 64, 3])"
            ]
          },
          "metadata": {},
          "execution_count": 63
        }
      ]
    },
    {
      "cell_type": "code",
      "source": [
        "dTensor.ndim"
      ],
      "metadata": {
        "colab": {
          "base_uri": "https://localhost:8080/"
        },
        "id": "B8vOgnZC2pRG",
        "outputId": "cea7f4b1-3f18-46b5-e807-e03e0d621b35"
      },
      "execution_count": null,
      "outputs": [
        {
          "output_type": "execute_result",
          "data": {
            "text/plain": [
              "4"
            ]
          },
          "metadata": {},
          "execution_count": 64
        }
      ]
    },
    {
      "cell_type": "code",
      "source": [
        "torch.rand(3,1)"
      ],
      "metadata": {
        "colab": {
          "base_uri": "https://localhost:8080/"
        },
        "id": "vZVCUFIt2x9z",
        "outputId": "9aaea0e9-29d5-4b4d-b2eb-5b9f90f6c61e"
      },
      "execution_count": null,
      "outputs": [
        {
          "output_type": "execute_result",
          "data": {
            "text/plain": [
              "tensor([[0.8400],\n",
              "        [0.0354],\n",
              "        [0.3137]])"
            ]
          },
          "metadata": {},
          "execution_count": 65
        }
      ]
    },
    {
      "cell_type": "code",
      "source": [
        "Z = torch.matmul(W.T,X)"
      ],
      "metadata": {
        "id": "gVupC_Gk3naJ"
      },
      "execution_count": null,
      "outputs": []
    },
    {
      "cell_type": "code",
      "source": [
        "Z.shape"
      ],
      "metadata": {
        "colab": {
          "base_uri": "https://localhost:8080/"
        },
        "id": "Ni-nNWrcRZtn",
        "outputId": "0944e816-4417-4371-fece-6ae697374ef2"
      },
      "execution_count": null,
      "outputs": [
        {
          "output_type": "execute_result",
          "data": {
            "text/plain": [
              "torch.Size([4, 208])"
            ]
          },
          "metadata": {},
          "execution_count": 83
        }
      ]
    },
    {
      "cell_type": "code",
      "source": [
        "Z.dtype"
      ],
      "metadata": {
        "colab": {
          "base_uri": "https://localhost:8080/"
        },
        "id": "DoCQDHaoRbDc",
        "outputId": "b77e8e4c-efb1-4fda-d827-b6d1a1ce0bca"
      },
      "execution_count": null,
      "outputs": [
        {
          "output_type": "execute_result",
          "data": {
            "text/plain": [
              "torch.float32"
            ]
          },
          "metadata": {},
          "execution_count": 84
        }
      ]
    },
    {
      "cell_type": "code",
      "source": [
        "Z.ndim"
      ],
      "metadata": {
        "colab": {
          "base_uri": "https://localhost:8080/"
        },
        "id": "paDBdVxpT_7a",
        "outputId": "480fa7db-03de-410f-c1c8-d2f517ac4512"
      },
      "execution_count": null,
      "outputs": [
        {
          "output_type": "execute_result",
          "data": {
            "text/plain": [
              "2"
            ]
          },
          "metadata": {},
          "execution_count": 72
        }
      ]
    },
    {
      "cell_type": "code",
      "source": [
        "Z = Z.type(torch.float16)"
      ],
      "metadata": {
        "id": "Ys6MlmoEUDyO"
      },
      "execution_count": null,
      "outputs": []
    },
    {
      "cell_type": "code",
      "source": [
        "Z.dtype"
      ],
      "metadata": {
        "colab": {
          "base_uri": "https://localhost:8080/"
        },
        "id": "884D0v9tUKPe",
        "outputId": "c34b6990-49e1-4e7a-edd4-0b0ae7879c39"
      },
      "execution_count": null,
      "outputs": [
        {
          "output_type": "execute_result",
          "data": {
            "text/plain": [
              "torch.float16"
            ]
          },
          "metadata": {},
          "execution_count": 87
        }
      ]
    },
    {
      "cell_type": "code",
      "source": [
        "A = W.T @ X\n",
        "Z-A"
      ],
      "metadata": {
        "colab": {
          "base_uri": "https://localhost:8080/"
        },
        "id": "W0tpVM1GULyy",
        "outputId": "d5e5fca6-c74f-4f59-97bc-dd2843ae5438"
      },
      "execution_count": null,
      "outputs": [
        {
          "output_type": "execute_result",
          "data": {
            "text/plain": [
              "tensor([[ 8.1348e-01,  2.1729e-02,  5.7007e-01, -1.2085e-01, -3.6377e-01,\n",
              "         -7.1436e-01, -6.0645e-01, -4.5850e-01, -3.9844e-01, -8.0933e-01,\n",
              "         -8.7256e-01,  1.4526e-01,  9.4214e-01,  8.5864e-01,  9.5044e-01,\n",
              "         -3.3374e-01,  3.3472e-01, -2.6562e-01,  2.1680e-01, -7.3096e-01,\n",
              "         -2.8589e-01,  3.5962e-01, -4.8022e-01, -3.2471e-01,  8.4741e-01,\n",
              "          8.7158e-01, -1.4624e-01, -1.0010e-01, -3.5059e-01,  1.6821e-01,\n",
              "          4.0869e-01, -3.1689e-01,  4.4971e-01, -8.1909e-01,  7.9053e-01,\n",
              "          8.5889e-01, -5.6763e-01, -7.6929e-01,  3.4985e-01,  1.4331e-01,\n",
              "         -3.3130e-01, -3.0029e-02, -8.1470e-01,  6.7871e-02, -9.4482e-02,\n",
              "         -7.2900e-01,  4.2456e-01,  6.7285e-01,  1.5796e-01, -7.1899e-01,\n",
              "         -5.2856e-01,  3.4717e-01,  8.0933e-01, -9.5215e-03, -7.2559e-01,\n",
              "         -6.0059e-02, -8.7500e-01, -2.6733e-01, -2.9419e-01,  2.2144e-01,\n",
              "         -1.1182e-01, -3.3447e-02,  9.8022e-01,  6.7749e-01, -9.6265e-01,\n",
              "         -1.4648e-01,  6.3965e-01, -2.8369e-01, -3.6304e-01, -3.0103e-01,\n",
              "          1.7725e-01,  8.7866e-01, -8.0664e-01,  6.5552e-01, -6.7944e-01,\n",
              "          5.8960e-01, -4.8218e-01, -5.2466e-01,  3.8208e-01,  9.1602e-01,\n",
              "          6.4429e-01,  5.7861e-02, -5.3955e-01,  4.1504e-02,  4.4336e-01,\n",
              "          2.4902e-01, -7.9614e-01,  4.9414e-01,  5.5591e-01,  9.8608e-01,\n",
              "          7.7930e-01, -4.9341e-01,  5.8252e-01, -2.4219e-01,  1.6431e-01,\n",
              "          8.8281e-01,  1.5137e-02,  4.3433e-01, -4.9756e-01,  6.8481e-01,\n",
              "          9.5093e-01, -8.9502e-01, -3.3862e-01, -6.1523e-01,  7.6562e-01,\n",
              "          5.7056e-01, -7.1167e-01, -2.2876e-01, -6.9385e-01, -3.7524e-01,\n",
              "         -5.6714e-01,  1.3843e-01,  6.5869e-01,  9.6826e-01,  7.6855e-01,\n",
              "         -1.7773e-01,  6.5918e-01,  9.4727e-01, -4.2798e-01, -4.4727e-01,\n",
              "          3.5400e-02, -2.6367e-01,  5.4004e-01,  5.3491e-01, -4.2773e-01,\n",
              "          5.9326e-02,  8.0957e-01, -9.2334e-01,  6.0205e-01, -2.0776e-01,\n",
              "          2.0679e-01,  5.4785e-01, -5.5762e-01,  9.5142e-01,  6.2036e-01,\n",
              "          5.6348e-01,  1.0400e-01, -1.0327e-01, -2.7539e-01,  7.7490e-01,\n",
              "          2.1411e-01, -6.7310e-01, -1.4478e-01,  6.0376e-01, -5.1904e-01,\n",
              "         -6.3330e-01, -2.5977e-01,  1.0352e-01,  1.4648e-02,  3.7769e-01,\n",
              "          4.3530e-01,  9.9463e-01, -6.4429e-01,  5.0464e-01,  2.5098e-01,\n",
              "         -3.2837e-01, -5.2148e-01, -8.6670e-02,  4.5264e-01, -3.3960e-01,\n",
              "         -7.1973e-01, -2.6367e-01, -7.4390e-01,  8.1104e-01, -8.1592e-01,\n",
              "         -8.6670e-01,  2.2876e-01, -3.4106e-01, -1.2671e-01,  5.6909e-01,\n",
              "         -8.0811e-01,  4.8706e-01, -4.4800e-01, -1.8677e-01,  8.2568e-01,\n",
              "         -7.3315e-01,  7.1533e-01,  8.3960e-01,  6.4844e-01, -4.4946e-01,\n",
              "          5.1050e-01, -9.3677e-01, -6.7065e-01, -2.9712e-01, -9.2358e-01,\n",
              "          5.9644e-01,  9.9048e-01, -5.3857e-01,  3.3325e-01,  1.8335e-01,\n",
              "          8.2349e-01, -9.7583e-01, -3.6621e-02, -8.1787e-02, -2.9810e-01,\n",
              "          3.4912e-02,  4.4263e-01, -5.9888e-01, -6.0034e-01,  5.4150e-01,\n",
              "         -1.0278e-01,  5.3833e-01, -1.5137e-01, -1.8433e-01, -8.1958e-01,\n",
              "         -7.6904e-01, -2.3633e-01, -3.8403e-01],\n",
              "        [-8.7012e-01, -8.4448e-01, -9.4214e-01, -8.1543e-02,  1.0791e-01,\n",
              "         -4.3848e-01, -8.0273e-01, -8.9233e-01, -5.1538e-01,  8.8525e-01,\n",
              "          5.0098e-01, -1.9189e-01,  7.8613e-01,  2.9443e-01, -8.8379e-02,\n",
              "         -1.0303e-01, -2.6758e-01, -6.3916e-01,  7.2974e-01, -9.0430e-01,\n",
              "          1.0181e-01, -6.0596e-01, -3.4790e-01,  8.8721e-01,  8.7329e-01,\n",
              "         -7.3364e-01,  2.5122e-01,  8.9917e-01, -6.8481e-01, -1.9946e-01,\n",
              "          4.1992e-02,  5.9229e-01, -6.5283e-01,  3.5352e-01, -6.5186e-01,\n",
              "         -3.4351e-01,  6.2109e-01, -6.8774e-01, -2.4414e-04, -7.3438e-01,\n",
              "          8.9600e-02, -1.6284e-01,  9.3628e-01,  7.8101e-01,  6.5356e-01,\n",
              "          8.3252e-02,  1.0034e-01, -8.2324e-01,  2.2217e-01,  1.4136e-01,\n",
              "         -6.4282e-01,  9.0845e-01, -8.9087e-01, -5.0903e-01,  4.2236e-02,\n",
              "          5.7812e-01,  8.1152e-01, -9.3750e-02,  1.4893e-01, -4.5117e-01,\n",
              "         -3.9551e-01, -4.1528e-01, -8.7891e-02, -4.4800e-01, -9.3286e-01,\n",
              "         -4.7046e-01, -2.2974e-01,  8.5474e-01,  5.9741e-01,  5.7397e-01,\n",
              "         -4.3188e-01,  5.8472e-01, -8.4277e-01, -3.8574e-02,  8.2275e-02,\n",
              "         -1.6040e-01,  5.4565e-01,  9.9609e-02,  9.3750e-02,  5.2246e-02,\n",
              "          5.4175e-01, -1.5308e-01, -9.5166e-01,  9.4531e-01,  4.4873e-01,\n",
              "         -9.1089e-01, -7.0435e-01, -3.9697e-01, -7.7734e-01,  4.4360e-01,\n",
              "          2.4023e-01, -6.5869e-01, -8.3838e-01, -5.5054e-01,  7.0410e-01,\n",
              "         -6.6699e-01, -4.8145e-01, -2.4854e-01,  6.0059e-01, -4.3408e-01,\n",
              "         -4.2090e-01,  8.4082e-01,  1.7383e-01, -5.2954e-01,  2.0117e-01,\n",
              "         -9.5874e-01,  5.5884e-01, -7.2021e-02,  2.8979e-01,  2.4976e-01,\n",
              "         -4.8584e-01,  8.7231e-01,  4.0869e-01, -2.9004e-01, -3.6377e-02,\n",
              "         -1.6382e-01, -8.0566e-01,  7.5879e-01, -2.0508e-01, -4.3311e-01,\n",
              "          9.1846e-01,  3.2642e-01,  3.8281e-01,  1.8262e-01,  7.8345e-01,\n",
              "         -9.6436e-01, -2.7466e-01, -6.6675e-01,  1.8213e-01,  3.9795e-02,\n",
              "          7.5195e-02,  5.3711e-03, -1.8628e-01,  7.6099e-01, -9.2920e-01,\n",
              "          1.2427e-01,  5.9131e-01, -7.4951e-02,  5.3760e-01, -1.4697e-01,\n",
              "         -4.8242e-01,  7.8320e-01, -7.8931e-01, -8.3398e-01, -5.9668e-01,\n",
              "         -4.1870e-01,  5.9961e-01, -3.0029e-02,  7.6611e-01,  5.8594e-02,\n",
              "         -4.6387e-01,  7.6123e-01,  5.1196e-01, -2.6782e-01,  5.1465e-01,\n",
              "         -2.8564e-02,  7.6416e-02, -6.6235e-01,  3.4180e-02,  3.7866e-01,\n",
              "          5.5298e-01,  8.7158e-01, -8.2593e-01, -1.2085e-01,  3.7109e-01,\n",
              "          4.9268e-01,  5.9326e-02, -2.4170e-01, -7.3022e-01,  5.0122e-01,\n",
              "          9.7974e-01, -3.8232e-01, -2.2705e-01, -9.2896e-01, -9.6899e-01,\n",
              "         -3.5059e-01,  2.1655e-01,  7.9761e-01,  5.4443e-02, -1.5674e-01,\n",
              "          1.8701e-01,  7.3975e-02, -9.3994e-02, -1.0254e-02, -7.9468e-01,\n",
              "         -6.0205e-01,  1.0254e-01, -9.5996e-01, -3.8989e-01,  3.4229e-01,\n",
              "          8.3594e-01,  3.1592e-01,  4.8975e-01,  1.2451e-02,  4.7632e-01,\n",
              "          5.7593e-01, -9.5728e-01, -1.3354e-01,  6.1011e-01,  4.1968e-01,\n",
              "          5.7080e-01, -9.2432e-01,  9.2773e-03, -6.7603e-01, -7.1289e-02,\n",
              "         -9.6021e-01, -9.4775e-01, -7.9297e-01],\n",
              "        [ 9.2285e-01, -2.0898e-01,  1.9629e-01, -9.8047e-01,  3.0127e-01,\n",
              "          1.7456e-01, -8.7085e-01,  3.8477e-01,  8.7402e-01, -9.6069e-01,\n",
              "          1.3354e-01,  2.1411e-01, -6.4331e-01,  4.6484e-01,  9.5093e-01,\n",
              "         -9.1992e-01, -4.8486e-01,  7.8857e-01,  2.5537e-01,  6.6504e-01,\n",
              "          7.8613e-01,  7.9834e-01,  3.7598e-01,  9.7827e-01,  5.6860e-01,\n",
              "         -7.7075e-01,  9.5654e-01,  7.8149e-01, -6.8359e-01, -2.3438e-02,\n",
              "          6.0498e-01, -3.6230e-01,  7.3950e-01,  3.0200e-01,  9.4556e-01,\n",
              "          6.3647e-01,  8.4570e-01,  5.0293e-01,  4.4287e-01,  9.3774e-01,\n",
              "         -2.1387e-01, -2.8320e-01,  9.3384e-01,  8.7427e-01, -5.3271e-01,\n",
              "         -4.9536e-01, -1.5845e-01, -7.0850e-01,  4.3530e-01, -5.4907e-01,\n",
              "          9.1040e-01, -9.9780e-01,  9.4287e-01, -3.4839e-01,  9.6973e-01,\n",
              "          6.3574e-01, -5.8594e-02, -5.1611e-01, -9.1064e-02, -1.7603e-01,\n",
              "          8.4717e-02,  4.5288e-01, -9.8096e-01, -3.1714e-01,  1.3257e-01,\n",
              "          8.8135e-02,  4.2725e-02, -9.4287e-01,  6.5845e-01, -7.4902e-01,\n",
              "         -2.9395e-01,  7.5464e-01, -5.1050e-01, -6.0034e-01, -1.6431e-01,\n",
              "         -3.1665e-01,  2.3608e-01, -1.3965e-01, -4.2407e-01, -3.9551e-01,\n",
              "          1.5918e-01,  2.4463e-01,  2.8540e-01,  9.5801e-01,  5.8789e-01,\n",
              "         -1.0132e-01, -7.5415e-01, -8.0518e-01,  7.4292e-01,  1.0010e-02,\n",
              "          4.9487e-01,  8.3862e-01,  6.5527e-01, -5.6616e-01, -6.7993e-01,\n",
              "          6.6016e-01, -3.9136e-01,  9.1602e-01, -4.1528e-01, -1.6895e-01,\n",
              "          5.4858e-01,  7.0312e-01,  5.4590e-01, -5.9302e-01,  1.4404e-02,\n",
              "          9.1626e-01, -1.0205e-01, -3.7109e-02,  4.7192e-01,  1.4404e-01,\n",
              "         -9.6631e-01, -4.2554e-01, -2.1899e-01, -3.8794e-01, -4.8877e-01,\n",
              "          1.8628e-01,  3.2666e-01, -9.1919e-01, -3.1689e-01,  3.4180e-01,\n",
              "         -7.1899e-01, -8.2275e-01,  2.2119e-01,  5.5127e-01,  2.9541e-02,\n",
              "          3.5181e-01, -3.1812e-01, -4.5752e-01, -1.9019e-01,  9.5410e-01,\n",
              "          6.5405e-01,  3.1055e-01,  5.8594e-02, -8.1250e-01,  5.7861e-02,\n",
              "          3.6548e-01, -4.3945e-03, -5.5835e-01,  9.3384e-01, -3.6475e-01,\n",
              "         -6.0767e-01,  5.4761e-01, -4.3457e-02,  2.8394e-01, -3.9551e-01,\n",
              "         -6.9019e-01, -9.0332e-01,  2.8613e-01, -9.2749e-01, -6.4600e-01,\n",
              "          9.6045e-01,  9.2505e-01, -2.7539e-01, -5.7202e-01, -1.0913e-01,\n",
              "          5.8105e-02, -2.7588e-01, -2.7368e-01, -9.2383e-01, -8.6230e-01,\n",
              "         -9.5166e-01, -1.7334e-02,  1.7017e-01, -6.4331e-01, -5.5518e-01,\n",
              "          9.8438e-01,  8.1787e-02,  3.3130e-01, -1.3135e-01, -7.6880e-01,\n",
              "         -7.9883e-01,  7.4634e-01,  2.2900e-01, -3.5010e-01,  6.0107e-01,\n",
              "          3.2422e-01, -9.9341e-01,  1.6040e-01,  6.3281e-01,  2.1655e-01,\n",
              "          1.5674e-01,  7.0532e-01, -7.9102e-01, -8.7915e-01,  5.2368e-01,\n",
              "          7.7783e-01, -9.6582e-01,  7.4268e-01, -9.9951e-01,  2.5146e-01,\n",
              "          6.9531e-01,  9.7388e-01,  3.2715e-01, -4.6631e-02,  5.2905e-01,\n",
              "          4.4702e-01,  2.2974e-01, -4.4531e-01, -2.9419e-01,  2.9834e-01,\n",
              "          7.6294e-01, -7.4829e-01, -8.2495e-01, -6.9873e-01, -5.0928e-01,\n",
              "          3.3545e-01,  6.1572e-01,  4.4165e-01],\n",
              "        [-2.9004e-01,  8.5938e-02,  8.5449e-03, -8.8232e-01,  1.2695e-01,\n",
              "          3.3447e-02, -9.4946e-01,  4.1846e-01,  1.6895e-01,  6.3330e-01,\n",
              "         -7.3657e-01, -4.0845e-01, -9.8315e-01,  1.6772e-01,  7.2388e-01,\n",
              "          4.7217e-01, -4.0308e-01, -1.8433e-01, -1.0864e-01,  9.4360e-01,\n",
              "         -1.9165e-01, -8.0518e-01, -9.9023e-01, -4.1504e-02, -5.8081e-01,\n",
              "         -7.2510e-02,  2.6587e-01, -1.0767e-01,  9.3042e-01, -7.5439e-01,\n",
              "         -5.7178e-01, -9.7900e-01, -1.3550e-01,  9.4727e-01,  6.6284e-01,\n",
              "         -5.4907e-01, -1.3672e-01, -7.0703e-01, -9.9487e-01,  3.7476e-01,\n",
              "         -1.3599e-01, -3.9062e-02,  2.3413e-01,  1.1670e-01,  5.1489e-01,\n",
              "          8.3179e-01,  4.2603e-01, -5.2002e-01,  1.1401e-01, -2.2827e-01,\n",
              "          2.4561e-01,  4.2065e-01, -2.6147e-01,  3.2739e-01,  4.5947e-01,\n",
              "          5.1050e-01, -2.5659e-01, -7.8979e-01, -8.9111e-01,  1.9336e-01,\n",
              "          8.3691e-01, -2.5635e-01,  4.7852e-01,  2.7563e-01, -9.7559e-01,\n",
              "          4.7803e-01,  2.2241e-01, -6.1279e-02, -7.1826e-01,  5.4663e-01,\n",
              "          9.8291e-01, -4.7607e-01, -2.6709e-01,  5.8105e-02, -5.3760e-01,\n",
              "          1.4404e-02, -8.1665e-01, -1.5723e-01, -1.7993e-01, -2.0801e-01,\n",
              "         -9.4971e-02,  9.2627e-01,  2.7881e-01, -5.7983e-01,  9.0625e-01,\n",
              "         -2.7710e-01, -8.1885e-01,  5.7910e-01, -2.5195e-01,  3.6084e-01,\n",
              "         -8.9233e-01, -7.8833e-01, -5.4712e-01, -7.9126e-01, -9.8853e-01,\n",
              "         -7.6611e-01, -9.4409e-01,  6.9043e-01,  4.4458e-01, -1.2158e-01,\n",
              "          3.2251e-01,  2.9297e-02,  8.4570e-01,  1.0474e-01,  9.4287e-01,\n",
              "         -1.1450e-01,  2.3730e-01,  4.1016e-02, -2.4341e-01, -1.1450e-01,\n",
              "         -6.9702e-01, -1.7554e-01,  3.3325e-01,  9.0503e-01,  5.0269e-01,\n",
              "          1.3428e-01, -5.6152e-03, -5.0732e-01,  6.3452e-01,  3.3252e-01,\n",
              "         -3.2227e-02,  6.0815e-01,  6.4673e-01,  2.1021e-01, -6.0596e-01,\n",
              "          2.1875e-01, -6.0376e-01, -9.3066e-01, -7.9346e-02, -8.4399e-01,\n",
              "          5.2246e-02,  6.6870e-01, -7.9980e-01, -1.4600e-01,  3.0371e-01,\n",
              "          1.0620e-01, -3.3936e-01,  5.8594e-02, -5.7446e-01,  2.8394e-01,\n",
              "          6.1060e-01, -3.4595e-01,  4.4897e-01,  3.2495e-01,  3.2446e-01,\n",
              "         -4.4434e-01,  9.3579e-01, -6.2500e-01, -5.6323e-01, -9.2773e-03,\n",
              "         -4.7119e-01, -7.3706e-01, -1.9312e-01, -1.8042e-01,  9.4653e-01,\n",
              "         -9.8511e-01,  8.4497e-01, -5.5811e-01, -4.6851e-01,  6.1523e-01,\n",
              "          7.9395e-01, -1.9165e-01,  3.6572e-01,  7.8687e-01, -8.8086e-01,\n",
              "          6.2183e-01, -8.9844e-02, -6.9580e-02,  9.2822e-01,  2.7319e-01,\n",
              "         -7.0898e-01,  8.0811e-01, -6.7383e-01,  3.1128e-01,  7.0312e-02,\n",
              "         -3.6597e-01, -1.5405e-01, -7.8857e-02, -4.8828e-01, -8.0786e-01,\n",
              "         -2.8027e-01, -6.4819e-01, -2.7930e-01,  3.7378e-01, -2.4634e-01,\n",
              "          7.4121e-01, -5.4248e-01,  2.2266e-01,  1.6113e-02,  1.6235e-01,\n",
              "         -7.6660e-02,  6.2207e-01, -4.1382e-01,  8.7354e-01, -7.6318e-01,\n",
              "          9.1797e-01,  1.2720e-01,  3.7476e-01, -9.4434e-01, -1.3501e-01,\n",
              "         -1.4185e-01,  5.6152e-02, -5.7886e-01,  5.2612e-01,  5.5640e-01,\n",
              "          9.8682e-01,  9.8413e-01, -2.4414e-03]])"
            ]
          },
          "metadata": {},
          "execution_count": 88
        }
      ]
    },
    {
      "cell_type": "code",
      "source": [
        "x = torch.arange(-69,10)"
      ],
      "metadata": {
        "id": "LGx9w293USUm"
      },
      "execution_count": null,
      "outputs": []
    },
    {
      "cell_type": "code",
      "source": [
        "%%time\n",
        "torch.mean(x,dtype=torch.float16)"
      ],
      "metadata": {
        "colab": {
          "base_uri": "https://localhost:8080/"
        },
        "id": "3UiU9TCBWdur",
        "outputId": "e1d3a3cb-ecf1-4359-8d8e-659c548541aa"
      },
      "execution_count": null,
      "outputs": [
        {
          "output_type": "stream",
          "name": "stdout",
          "text": [
            "CPU times: user 1.11 ms, sys: 0 ns, total: 1.11 ms\n",
            "Wall time: 1.12 ms\n"
          ]
        },
        {
          "output_type": "execute_result",
          "data": {
            "text/plain": [
              "tensor(-30., dtype=torch.float16)"
            ]
          },
          "metadata": {},
          "execution_count": 138
        }
      ]
    },
    {
      "cell_type": "code",
      "source": [
        "%%time\n",
        "torch.mean(x.type(torch.float16))"
      ],
      "metadata": {
        "colab": {
          "base_uri": "https://localhost:8080/"
        },
        "id": "h-pF8rMxZGZT",
        "outputId": "87ef8064-9cc5-4f5a-ab70-e1b8c4785a88"
      },
      "execution_count": null,
      "outputs": [
        {
          "output_type": "stream",
          "name": "stdout",
          "text": [
            "CPU times: user 174 µs, sys: 10 µs, total: 184 µs\n",
            "Wall time: 189 µs\n"
          ]
        },
        {
          "output_type": "execute_result",
          "data": {
            "text/plain": [
              "tensor(-30., dtype=torch.float16)"
            ]
          },
          "metadata": {},
          "execution_count": 139
        }
      ]
    },
    {
      "cell_type": "code",
      "source": [
        "%%time\n",
        "x.type(torch.float16).mean()"
      ],
      "metadata": {
        "colab": {
          "base_uri": "https://localhost:8080/"
        },
        "id": "5-atBpXKZHEt",
        "outputId": "06ed35f7-11f5-404e-a2d2-3c4dd905dd8e"
      },
      "execution_count": null,
      "outputs": [
        {
          "output_type": "stream",
          "name": "stdout",
          "text": [
            "CPU times: user 176 µs, sys: 11 µs, total: 187 µs\n",
            "Wall time: 195 µs\n"
          ]
        },
        {
          "output_type": "execute_result",
          "data": {
            "text/plain": [
              "tensor(-30., dtype=torch.float16)"
            ]
          },
          "metadata": {},
          "execution_count": 140
        }
      ]
    },
    {
      "cell_type": "code",
      "source": [
        "%%time\n",
        "torch.sum(x)"
      ],
      "metadata": {
        "colab": {
          "base_uri": "https://localhost:8080/"
        },
        "id": "23Tzx1z_XW4Q",
        "outputId": "a283dfbf-06ab-4b90-a94e-019474ccde41"
      },
      "execution_count": null,
      "outputs": [
        {
          "output_type": "stream",
          "name": "stdout",
          "text": [
            "CPU times: user 102 µs, sys: 0 ns, total: 102 µs\n",
            "Wall time: 106 µs\n"
          ]
        },
        {
          "output_type": "execute_result",
          "data": {
            "text/plain": [
              "tensor(-2370)"
            ]
          },
          "metadata": {},
          "execution_count": 143
        }
      ]
    },
    {
      "cell_type": "code",
      "source": [
        "%%time\n",
        "x.sum()"
      ],
      "metadata": {
        "colab": {
          "base_uri": "https://localhost:8080/"
        },
        "id": "eWNIxdCKY7X7",
        "outputId": "6d69287f-fe9c-482d-9609-acfb76a24bd0"
      },
      "execution_count": null,
      "outputs": [
        {
          "output_type": "stream",
          "name": "stdout",
          "text": [
            "CPU times: user 96 µs, sys: 6 µs, total: 102 µs\n",
            "Wall time: 108 µs\n"
          ]
        },
        {
          "output_type": "execute_result",
          "data": {
            "text/plain": [
              "tensor(-2370)"
            ]
          },
          "metadata": {},
          "execution_count": 144
        }
      ]
    },
    {
      "cell_type": "code",
      "source": [
        "%%time\n",
        "x.min()"
      ],
      "metadata": {
        "colab": {
          "base_uri": "https://localhost:8080/"
        },
        "id": "U_wFHMDDYIAC",
        "outputId": "7d21d2ce-2ce1-4dc1-b17d-42fe1eac6c84"
      },
      "execution_count": null,
      "outputs": [
        {
          "output_type": "stream",
          "name": "stdout",
          "text": [
            "CPU times: user 66 µs, sys: 4 µs, total: 70 µs\n",
            "Wall time: 74.4 µs\n"
          ]
        },
        {
          "output_type": "execute_result",
          "data": {
            "text/plain": [
              "tensor(-69)"
            ]
          },
          "metadata": {},
          "execution_count": 171
        }
      ]
    },
    {
      "cell_type": "code",
      "source": [
        "%%time\n",
        "torch.min(x)"
      ],
      "metadata": {
        "colab": {
          "base_uri": "https://localhost:8080/"
        },
        "id": "aVRZYX4FY_8G",
        "outputId": "766e8179-60f5-4f6b-e523-e4644771699f"
      },
      "execution_count": null,
      "outputs": [
        {
          "output_type": "stream",
          "name": "stdout",
          "text": [
            "CPU times: user 76 µs, sys: 0 ns, total: 76 µs\n",
            "Wall time: 80.1 µs\n"
          ]
        },
        {
          "output_type": "execute_result",
          "data": {
            "text/plain": [
              "tensor(-69)"
            ]
          },
          "metadata": {},
          "execution_count": 172
        }
      ]
    },
    {
      "cell_type": "code",
      "source": [
        "%%time\n",
        "torch.max(x)"
      ],
      "metadata": {
        "colab": {
          "base_uri": "https://localhost:8080/"
        },
        "id": "Qj-8BG0LYUXP",
        "outputId": "61ff2d4d-2688-4b4c-a7ff-9c0e6869432a"
      },
      "execution_count": null,
      "outputs": [
        {
          "output_type": "stream",
          "name": "stdout",
          "text": [
            "CPU times: user 69 µs, sys: 2 µs, total: 71 µs\n",
            "Wall time: 74.4 µs\n"
          ]
        },
        {
          "output_type": "execute_result",
          "data": {
            "text/plain": [
              "tensor(9)"
            ]
          },
          "metadata": {},
          "execution_count": 173
        }
      ]
    },
    {
      "cell_type": "code",
      "source": [
        "%%time\n",
        "x.max()"
      ],
      "metadata": {
        "colab": {
          "base_uri": "https://localhost:8080/"
        },
        "id": "fI8Dzy-JYalw",
        "outputId": "b767b2a6-0bef-49d4-a3f4-bfdc5191a043"
      },
      "execution_count": null,
      "outputs": [
        {
          "output_type": "stream",
          "name": "stdout",
          "text": [
            "CPU times: user 69 µs, sys: 4 µs, total: 73 µs\n",
            "Wall time: 76.8 µs\n"
          ]
        },
        {
          "output_type": "execute_result",
          "data": {
            "text/plain": [
              "tensor(9)"
            ]
          },
          "metadata": {},
          "execution_count": 174
        }
      ]
    },
    {
      "cell_type": "code",
      "source": [
        "x.argmax()"
      ],
      "metadata": {
        "colab": {
          "base_uri": "https://localhost:8080/"
        },
        "id": "NY3xAGbKYfte",
        "outputId": "c02ff23d-968a-485d-937e-e0a5f482f8c7"
      },
      "execution_count": null,
      "outputs": [
        {
          "output_type": "execute_result",
          "data": {
            "text/plain": [
              "tensor(78)"
            ]
          },
          "metadata": {},
          "execution_count": 177
        }
      ]
    },
    {
      "cell_type": "code",
      "source": [],
      "metadata": {
        "id": "tdYFy4e-bFii"
      },
      "execution_count": null,
      "outputs": []
    }
  ]
}